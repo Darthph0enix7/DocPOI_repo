{
 "cells": [
  {
   "cell_type": "code",
   "execution_count": 1,
   "metadata": {},
   "outputs": [
    {
     "name": "stdout",
     "output_type": "stream",
     "text": [
      "Cloning the Coqui-tts repository into c:\\Users\\kalin\\Desktop\\DocPOI_repo\\TTS...\n"
     ]
    }
   ],
   "source": [
    "import argparse\n",
    "import os\n",
    "import subprocess\n",
    "import sys\n",
    "import shutil\n",
    "import time\n",
    "import requests\n",
    "\n",
    "script_dir = os.getcwd()\n",
    "repo_dir = os.path.join(script_dir)\n",
    "remote_url = \"https://github.com/Darthph0enix7/DocPOI_repo.git\"\n",
    "xtts_repo_dir = os.path.join(repo_dir, \"XTTS-v2\")\n",
    "tts_repo_dir = os.path.join(repo_dir, \"TTS\")\n",
    "\n",
    "\n",
    "def run_cmd(cmd, capture_output=False, env=None):\n",
    "    # Run shell commands\n",
    "    return subprocess.run(cmd, shell=True, capture_output=capture_output, env=env)\n",
    "\n",
    "if not os.path.exists(tts_repo_dir):\n",
    "    print(f\"Cloning the Coqui-tts repository into {tts_repo_dir}...\")\n",
    "    run_cmd(f\"git clone https://github.com/Darthph0enix7/TTS.git {tts_repo_dir}\")\n",
    "else:\n",
    "    print(\"XTTS-v2 repository already exists.\")"
   ]
  }
 ],
 "metadata": {
  "kernelspec": {
   "display_name": "torch",
   "language": "python",
   "name": "python3"
  },
  "language_info": {
   "codemirror_mode": {
    "name": "ipython",
    "version": 3
   },
   "file_extension": ".py",
   "mimetype": "text/x-python",
   "name": "python",
   "nbconvert_exporter": "python",
   "pygments_lexer": "ipython3",
   "version": "3.11.3"
  }
 },
 "nbformat": 4,
 "nbformat_minor": 2
}
